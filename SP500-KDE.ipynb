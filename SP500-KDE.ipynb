{
 "cells": [
  {
   "attachments": {},
   "cell_type": "markdown",
   "metadata": {},
   "source": [
    "**Repository**: https://github.com/EstebanMqz/SP500-Risk-Optimized-Portfolios-PostCovid-ML\n",
    "\n",
    "### <font color= 'orange'> **S & P 500 Risk Optimized Portfolios PostCovid ML (14 Apr $yr_{(2020-2023)}$)**<font> "
   ]
  },
  {
   "cell_type": "code",
   "execution_count": 3,
   "metadata": {
    "ExecuteTime": {
     "start_time": "2022-04-30T03:20:36.248Z"
    }
   },
   "outputs": [],
   "source": [
    "#Import dependencies\n",
    "import functions as fn\n",
    "import data as dt\n",
    "import visualizations as vs\n",
    "\n",
    "#Libraries\n",
    "import numpy as np\n",
    "import pandas as pd\n",
    "import matplotlib as plt\n",
    "\n",
    "import scipy\n",
    "import scipy.stats as st\n",
    "from scipy import optimize\n",
    "\n",
    "import sklearn\n",
    "from sklearn.neighbors import KernelDensity\n",
    "from sklearn.model_selection import GridSearchCV\n",
    "from sklearn import metrics\n",
    "\n",
    "from yahoofinancials import YahooFinancials \n",
    "from tabulate import tabulate\n",
    "import IPython.display as d\n",
    "\n",
    "import datetime \n",
    "import time\n",
    "\n",
    "import warnings\n",
    "warnings.filterwarnings(\"ignore\")\n",
    "warnings.filterwarnings(\"ignore\", category=UserWarning)"
   ]
  },
  {
   "cell_type": "markdown",
   "metadata": {},
   "source": [
    "##### <span style='color:red'> Project Creators:</span> Create requirements.txt file.<br>"
   ]
  },
  {
   "cell_type": "code",
   "execution_count": 3,
   "metadata": {},
   "outputs": [
    {
     "name": "stdout",
     "output_type": "stream",
     "text": [
      "requirements.txt file created in local path: c:\\Users\\Esteban\\Desktop\\Projects\\Github\\Repos_To-do\\Languages\\Python\\Fin_Sim\\Simulation_Course_Exams\\SP500-Risk-Optimized-Portfolios-ML-Models\\requirements.txt\n"
     ]
    }
   ],
   "source": [
    "docstring = \"\"\"\n",
    "# -- --------------------------------------------------------------------------------------------------  -- # \n",
    "# -- project: S&P500-Risk-Optimized-Portfolios-PostCovid-ML                                              -- # \n",
    "# -- script: requirements.txt: txt file to download Python modules for execution                         -- # \n",
    "# -- author: EstebanMqz                                                                                  -- # \n",
    "# -- license: CC BY 3.0                                                                                  -- # \n",
    "# -- repository: SP500-Risk-Optimized-Portfolios-PostCovid-ML/blob/main/requirements.txt                 -- #                                  \n",
    "# -- --------------------------------------------------------------------------------------------------  -- # \n",
    "\\n\n",
    "\"\"\"\n",
    "\n",
    "fn.get_requirements(docstring)"
   ]
  },
  {
   "attachments": {},
   "cell_type": "markdown",
   "metadata": {},
   "source": [
    "##### <span style='color:green'> Project Users:</span> Install libraries in requirements.txt file.<br>"
   ]
  },
  {
   "cell_type": "code",
   "execution_count": 4,
   "metadata": {},
   "outputs": [
    {
     "name": "stdout",
     "output_type": "stream",
     "text": [
      "Requirements installed.\n",
      "\n",
      "# -- --------------------------------------------------------------------------------------------------  -- # \n",
      "# -- project: S&P500-Risk-Optimized-Portfolios-PostCovid-ML                                              -- # \n",
      "# -- script: requirements.txt: txt file to download Python modules for execution                         -- # \n",
      "# -- author: EstebanMqz                                                                                  -- # \n",
      "# -- license: CC BY 3.0                                                                                  -- # \n",
      "# -- repository: SP500-Risk-Optimized-Portfolios-ML-Models/blob/main/requirements.txt                    -- #                                     -- # \n",
      "# -- --------------------------------------------------------------------------------------------------  -- # \n",
      "\n",
      "\n",
      "numpy >= 1.23.5 \n",
      "pandas >= 1.4.4 \n",
      "matplotlib >= 3.5.3 \n",
      "scipy >= 1.7.3 \n",
      "sklearn >= 1.0.2 \n",
      "jupyter >= 1.0.0 \n",
      "yahoofinanicals >= 1.14 \n",
      "tabulate >= 0.8.9 \n",
      "IPython >= 8.12.0 \n",
      "\n"
     ]
    }
   ],
   "source": [
    "dt.library_install(\"requirements.txt\")"
   ]
  }
 ],
 "metadata": {
  "kernelspec": {
   "display_name": "Python 3 (ipykernel)",
   "language": "python",
   "name": "python3"
  },
  "language_info": {
   "codemirror_mode": {
    "name": "ipython",
    "version": 3
   },
   "file_extension": ".py",
   "mimetype": "text/x-python",
   "name": "python",
   "nbconvert_exporter": "python",
   "pygments_lexer": "ipython3",
   "version": "3.8.13"
  }
 },
 "nbformat": 4,
 "nbformat_minor": 2
}
